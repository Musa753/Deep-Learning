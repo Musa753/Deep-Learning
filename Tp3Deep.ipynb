{
 "cells": [
  {
   "cell_type": "markdown",
   "id": "beccd225",
   "metadata": {},
   "source": [
    "Ce notebook detaille comment ameliorer l'accuracy d'un entrainement en adoptant differentes approches ,notamment l'augmentation des données,la recherche de la meilleure combinaison d'hypermaretres et en fonction des modeles choisis (le transfert learning)."
   ]
  },
  {
   "cell_type": "markdown",
   "id": "09b63b7c",
   "metadata": {},
   "source": [
    "import"
   ]
  },
  {
   "cell_type": "code",
   "execution_count": null,
   "id": "efaf6bc3",
   "metadata": {},
   "outputs": [],
   "source": [
    "import os\n",
    "import tensorflow as tf\n",
    "from tensorflow.keras.preprocessing.image import ImageDataGenerator, load_img, img_to_array\n",
    "from tensorflow.keras.utils import to_categorical\n",
    "from sklearn.model_selection import train_test_split\n",
    "import numpy as np\n",
    "from sklearn.model_selection import ParameterGrid\n",
    " "
   ]
  },
  {
   "cell_type": "markdown",
   "id": "9b9a9ad8",
   "metadata": {},
   "source": [
    "déclaration des variables"
   ]
  },
  {
   "cell_type": "code",
   "execution_count": null,
   "id": "e2517290",
   "metadata": {},
   "outputs": [],
   "source": [
    "# Définir le chemin du dossier NotMNIST Small\n",
    "notmnist_path = \"notMNIST_small\"\n",
    "\n",
    "# Liste des classes (sous-dossiers dans le dossier NotMNIST Small)\n",
    "classes = sorted(os.listdir(notmnist_path))\n",
    "\n",
    "# Charger les images et les étiquettes\n",
    "images = []\n",
    "labels = []\n"
   ]
  },
  {
   "cell_type": "markdown",
   "id": "58e6f6d4",
   "metadata": {},
   "source": [
    "Chargement des données depuis le dossier notMnist"
   ]
  },
  {
   "cell_type": "code",
   "execution_count": null,
   "id": "46d8acb5",
   "metadata": {},
   "outputs": [],
   "source": [
    "for i, class_name in enumerate(classes):\n",
    "    class_path = os.path.join(notmnist_path, class_name)\n",
    "    \n",
    "    # Ajouter une vérification si le chemin est un répertoire\n",
    "    if os.path.isdir(class_path):\n",
    "        for img_name in os.listdir(class_path):\n",
    "            img_path = os.path.join(class_path, img_name)\n",
    "            img = load_img(img_path, color_mode='grayscale', target_size=(28, 28))\n",
    "            img_array = img_to_array(img)\n",
    "            images.append(img_array)\n",
    "            labels.append(i)\n",
    "    else:\n",
    "        print(f\"Ignoring non-directory entry: {class_path}\")\n",
    "\n",
    "# Convertir les listes en tableaux NumPy\n",
    "images = np.array(images)\n",
    "labels = np.array(labels)\n",
    "\n",
    "# Normaliser les valeurs des pixels\n",
    "images = images.astype('float32') / 255.0\n",
    "\n",
    "# Convertir les étiquettes en one-hot encoding\n",
    "labels = to_categorical(labels, len(classes))"
   ]
  },
  {
   "cell_type": "markdown",
   "id": "844816a2",
   "metadata": {},
   "source": [
    "repartition des données en donnees de test et d'entrainement"
   ]
  },
  {
   "cell_type": "code",
   "execution_count": null,
   "id": "a20221c4",
   "metadata": {},
   "outputs": [],
   "source": [
    "\n",
    "train_images, test_images, train_labels, test_labels = train_test_split(images, labels, test_size=0.2, random_state=42)\n"
   ]
  },
  {
   "cell_type": "markdown",
   "id": "7a0e9c6f",
   "metadata": {},
   "source": [
    "creation du model de test"
   ]
  },
  {
   "cell_type": "code",
   "execution_count": null,
   "id": "017a384b",
   "metadata": {},
   "outputs": [],
   "source": [
    "# Définir l'architecture du modèle\n",
    "model = tf.keras.Sequential([\n",
    "    tf.keras.layers.Conv2D(32, (3, 3), activation='relu', input_shape=(28, 28, 1)),\n",
    "    tf.keras.layers.MaxPooling2D((2, 2)),\n",
    "    tf.keras.layers.Conv2D(64, (3, 3), activation='relu'),\n",
    "    tf.keras.layers.MaxPooling2D((2, 2)),\n",
    "    tf.keras.layers.Conv2D(64, (3, 3), activation='relu'),\n",
    "    tf.keras.layers.Flatten(),\n",
    "    tf.keras.layers.Dense(64, activation='relu'),\n",
    "    tf.keras.layers.Dense(len(classes), activation='softmax')\n",
    "])\n",
    "# Compiler le modèle\n",
    "model.compile(optimizer='adam',\n",
    "              loss='categorical_crossentropy',\n",
    "              metrics=['accuracy'])\n"
   ]
  },
  {
   "cell_type": "markdown",
   "id": "ecb94e5b",
   "metadata": {},
   "source": [
    "Entrainement du model avec les données initiales"
   ]
  },
  {
   "cell_type": "code",
   "execution_count": null,
   "id": "fafab10a",
   "metadata": {},
   "outputs": [],
   "source": [
    "# Entraîner le modèle sans augmentation des données\n",
    "model.fit(train_images, train_labels, batch_size=64, epochs=10, validation_data=(test_images, test_labels))\n",
    "\n",
    "# Évaluer le modèle sur l'ensemble de test\n",
    "test_loss, test_acc = model.evaluate(test_images, test_labels)\n",
    "print(f'Accuracy on test set: {test_acc}')\n"
   ]
  },
  {
   "cell_type": "markdown",
   "id": "84f7b779",
   "metadata": {},
   "source": [
    "Tentative d'amelioration de l'accuracy en exploitant differentes approches,notamment l'augmentation des donnees,la recherche d'hyperparametres optimals "
   ]
  },
  {
   "cell_type": "markdown",
   "id": "a055b9b1",
   "metadata": {},
   "source": [
    "Augmentation des données "
   ]
  },
  {
   "cell_type": "code",
   "execution_count": null,
   "id": "4152a101",
   "metadata": {},
   "outputs": [],
   "source": [
    "datagen = ImageDataGenerator(rotation_range=20, width_shift_range=0.2, height_shift_range=0.2, shear_range=0.2, zoom_range=0.2, horizontal_flip=True)\n",
    "datagen.fit(train_images)"
   ]
  },
  {
   "cell_type": "markdown",
   "id": "167801f6",
   "metadata": {},
   "source": [
    "Entrainement du model avec augmentation de données"
   ]
  },
  {
   "cell_type": "code",
   "execution_count": null,
   "id": "080eab58",
   "metadata": {},
   "outputs": [],
   "source": [
    "# Entraîner le modèle avec augmentation des données\n",
    "model.fit(datagen.flow(train_images, train_labels, batch_size=64),\n",
    "          steps_per_epoch=len(train_images) // 64,  # ajuster en fonction de la taille de votre ensemble d'entraînement\n",
    "          epochs=10,\n",
    "          validation_data=(test_images, test_labels))\n"
   ]
  },
  {
   "cell_type": "markdown",
   "id": "1791cea1",
   "metadata": {},
   "source": [
    "Si l'accurracy diminue avec l'augmentation cela veut dire l'augmentation est violente et il faut reduire la valeur parametres comme suite "
   ]
  },
  {
   "cell_type": "code",
   "execution_count": null,
   "id": "0e218dae",
   "metadata": {},
   "outputs": [],
   "source": [
    "datagen = ImageDataGenerator(\n",
    "    rotation_range=5,           \n",
    "    horizontal_flip=True\n",
    ")\n",
    "datagen.fit(train_images)"
   ]
  },
  {
   "cell_type": "code",
   "execution_count": null,
   "id": "2244cc19",
   "metadata": {},
   "outputs": [],
   "source": [
    "model.fit(datagen.flow(train_images, train_labels, batch_size=64),\n",
    "          steps_per_epoch=len(train_images) // 64,  # ajuster en fonction de la taille de votre ensemble d'entraînement\n",
    "          epochs=10,\n",
    "          validation_data=(test_images, test_labels))\n",
    "test_loss, test_acc = model.evaluate(test_images, test_labels)\n",
    "print(f'Accuracy on test set: {test_acc}')"
   ]
  },
  {
   "cell_type": "markdown",
   "id": "a9f9f076",
   "metadata": {},
   "source": [
    "Evaluation sur l'ensemble des données de test "
   ]
  },
  {
   "cell_type": "code",
   "execution_count": null,
   "id": "e5809d7f",
   "metadata": {},
   "outputs": [],
   "source": [
    "\n",
    "# Évaluer le modèle sur l'ensemble de test\n",
    "test_loss, test_acc = model.evaluate(test_images, test_labels)\n",
    "print(f'Accuracy on test set: {test_acc}')"
   ]
  },
  {
   "cell_type": "markdown",
   "id": "9a08bd4c",
   "metadata": {},
   "source": [
    "Definition de la grille d'hyperparametres,pour la recherche de la meilleur combinaison d'hyperparametres optimale"
   ]
  },
  {
   "cell_type": "code",
   "execution_count": null,
   "id": "7a600cfa",
   "metadata": {},
   "outputs": [],
   "source": [
    "# Définir le hyperparameter grid\n",
    "param_grid = {\n",
    "    'learning_rate': [0.0001, 0.001, 0.01],\n",
    "    'batch_size': [32, 64, 128],\n",
    "    'epochs': [10, 20, 30]\n",
    "}\n"
   ]
  },
  {
   "cell_type": "markdown",
   "id": "0baa2c82",
   "metadata": {},
   "source": [
    "Generationd de toutes les combinaisons d'hyperparametre possible"
   ]
  },
  {
   "cell_type": "code",
   "execution_count": null,
   "id": "9032c287",
   "metadata": {},
   "outputs": [],
   "source": [
    "# Generate all combinations of hyperparameters\n",
    "param_combinations = list(ParameterGrid(param_grid))"
   ]
  },
  {
   "cell_type": "markdown",
   "id": "ad9a0226",
   "metadata": {},
   "source": [
    "recherche iteratif sur notre modele\n",
    "On aurait pu utiliser d'autre methode tels que gridSearch,randomSearch mais nous voulions vraiment  prendre en compte tous les cas memes si ça reste quand meme laborieux.Avec ce procedé on a reuissi à avoir une accuracy de 96.5% avec les hyperparmetre suivant :\n",
    "{'batch_size': 32, 'epochs': 30, 'learning_rate': 0.001}\n"
   ]
  },
  {
   "cell_type": "code",
   "execution_count": null,
   "id": "8f726aed",
   "metadata": {},
   "outputs": [],
   "source": [
    "best_accuracy = 0.0  # Initialiser la meilleure précision\n",
    "best_params = None  # Initialiser les meilleurs hyperparamètres\n",
    "\n",
    "for params in param_combinations:\n",
    "    print(f\"Training with hyperparameters: {params}\")\n",
    "    \n",
    "    # Définir une architecture de modèle plus complexe\n",
    "    model = tf.keras.Sequential([\n",
    "        tf.keras.layers.Conv2D(64, (3, 3), activation='relu', input_shape=(28, 28, 1)),\n",
    "        tf.keras.layers.MaxPooling2D((2, 2)),\n",
    "        tf.keras.layers.Conv2D(128, (3, 3), activation='relu'),\n",
    "        tf.keras.layers.MaxPooling2D((2, 2)),\n",
    "        tf.keras.layers.Conv2D(128, (3, 3), activation='relu'),\n",
    "        tf.keras.layers.Flatten(),\n",
    "        tf.keras.layers.Dense(128, activation='relu'),\n",
    "        tf.keras.layers.Dropout(0.5),\n",
    "        tf.keras.layers.Dense(len(classes), activation='softmax')\n",
    "    ])\n",
    "\n",
    "    model.compile(optimizer=tf.keras.optimizers.Adam(learning_rate=params['learning_rate']),\n",
    "                  loss='categorical_crossentropy',\n",
    "                  metrics=['accuracy'])\n",
    "\n",
    "    # Entraîner le modèle avec augmentation des données\n",
    "    model.fit(datagen.flow(train_images, train_labels, batch_size=params['batch_size']),\n",
    "              steps_per_epoch=len(train_images) // params['batch_size'],\n",
    "              epochs=params['epochs'],\n",
    "              validation_data=(test_images, test_labels))\n",
    "    \n",
    "    # Évaluer le modèle sur l'ensemble de test\n",
    "    test_loss, test_acc = model.evaluate(test_images, test_labels)\n",
    "    print(f'Accuracy on test set: {test_acc}')\n",
    "    \n",
    "    # Mettre à jour les meilleurs hyperparamètres si la performance est meilleure\n",
    "    if test_acc > best_accuracy:\n",
    "        best_accuracy = test_acc\n",
    "        best_params = params\n",
    "\n",
    "# Imprimer les meilleurs hyperparamètres\n",
    "print(\"Best hyperparameters:\", best_params)\n",
    "print(\"Best accuracy on test set:\", best_accuracy)\n"
   ]
  },
  {
   "cell_type": "code",
   "execution_count": null,
   "id": "c290e05a",
   "metadata": {},
   "outputs": [],
   "source": [
    "# Définir une architecture de modèle plus complexe\n",
    "model = tf.keras.Sequential([\n",
    "    tf.keras.layers.Conv2D(64, (3, 3), activation='relu', input_shape=(28, 28, 1)),\n",
    "    tf.keras.layers.MaxPooling2D((2, 2)),\n",
    "    tf.keras.layers.Conv2D(128, (3, 3), activation='relu'),\n",
    "    tf.keras.layers.MaxPooling2D((2, 2)),\n",
    "    tf.keras.layers.Conv2D(128, (3, 3), activation='relu'),\n",
    "    tf.keras.layers.Flatten(),\n",
    "    tf.keras.layers.Dense(128, activation='relu'),\n",
    "    tf.keras.layers.Dropout(0.5),\n",
    "    tf.keras.layers.Dense(len(classes), activation='softmax')\n",
    "])\n",
    "\n",
    "model.compile(optimizer=tf.keras.optimizers.Adam(learning_rate=best_params['learning_rate']),\n",
    "              loss='categorical_crossentropy',\n",
    "              metrics=['accuracy'])\n",
    "\n",
    "# Entraîner le modèle avec les meilleurs hyperparamètres\n",
    "model.fit(datagen.flow(train_images, train_labels, batch_size=best_params['batch_size']),\n",
    "          steps_per_epoch=len(train_images) // best_params['batch_size'],\n",
    "          epochs=best_params['epochs'],\n",
    "          validation_data=(test_images, test_labels))\n",
    "\n",
    "# Évaluer le modèle sur l'ensemble de test\n",
    "test_loss, test_acc = model.evaluate(test_images, test_labels)\n",
    "print(f'Accuracy on test set: {test_acc}')"
   ]
  }
 ],
 "metadata": {
  "kernelspec": {
   "display_name": "Python 3 (ipykernel)",
   "language": "python",
   "name": "python3"
  },
  "language_info": {
   "codemirror_mode": {
    "name": "ipython",
    "version": 3
   },
   "file_extension": ".py",
   "mimetype": "text/x-python",
   "name": "python",
   "nbconvert_exporter": "python",
   "pygments_lexer": "ipython3",
   "version": "3.10.13"
  }
 },
 "nbformat": 4,
 "nbformat_minor": 5
}
